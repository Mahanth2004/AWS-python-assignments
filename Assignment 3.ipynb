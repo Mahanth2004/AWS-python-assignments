{
 "cells": [
  {
   "cell_type": "code",
   "execution_count": 1,
   "id": "62f0edbd",
   "metadata": {},
   "outputs": [
    {
     "name": "stdout",
     "output_type": "stream",
     "text": [
      "Concatenated string: Hello World\n"
     ]
    }
   ],
   "source": [
    "str1 = \"Hello\"\n",
    "str2 = \"World\"\n",
    "concatenated_string = str1 + \" \" + str2\n",
    "print(\"Concatenated string:\", concatenated_string)"
   ]
  },
  {
   "cell_type": "code",
   "execution_count": 3,
   "id": "82cd3f1b",
   "metadata": {},
   "outputs": [
    {
     "name": "stdout",
     "output_type": "stream",
     "text": [
      "Formatted string: Name: Nithin, Age: 19\n"
     ]
    }
   ],
   "source": [
    "name = \"Nithin\"\n",
    "age = 19\n",
    "formatted_string = \"Name: %s, Age: %d\" % (name, age)\n",
    "print(\"Formatted string:\", formatted_string)"
   ]
  },
  {
   "cell_type": "code",
   "execution_count": 29,
   "id": "341462aa",
   "metadata": {},
   "outputs": [
    {
     "name": "stdout",
     "output_type": "stream",
     "text": [
      "Formatted string: Name:Nithin, age:19\n"
     ]
    }
   ],
   "source": [
    "from string import Template\n",
    "template = Template(\"Name:Nithin, age:19\")\n",
    "formatted_string = template.substitute(name=name, age=age)\n",
    "print(\"Formatted string:\", formatted_string)"
   ]
  },
  {
   "cell_type": "code",
   "execution_count": 19,
   "id": "5001e93a",
   "metadata": {},
   "outputs": [
    {
     "name": "stdout",
     "output_type": "stream",
     "text": [
      "Formatted string: Name: Nithin, Age: 19\n"
     ]
    }
   ],
   "source": [
    "formatted_string = \"Name: {}, Age: {}\".format(name, age)\n",
    "print(\"Formatted string:\", formatted_string)"
   ]
  },
  {
   "cell_type": "code",
   "execution_count": 20,
   "id": "be9a7db5",
   "metadata": {},
   "outputs": [
    {
     "name": "stdout",
     "output_type": "stream",
     "text": [
      "Addition result: 8\n"
     ]
    }
   ],
   "source": [
    "result_add = 5 + 3\n",
    "print(\"Addition result:\", result_add)\n",
    "     "
   ]
  },
  {
   "cell_type": "code",
   "execution_count": 21,
   "id": "bc7a5b4f",
   "metadata": {},
   "outputs": [
    {
     "name": "stdout",
     "output_type": "stream",
     "text": [
      "Subtraction result: 7\n"
     ]
    }
   ],
   "source": [
    "result_sub = 9 - 2\n",
    "print(\"Subtraction result:\", result_sub)"
   ]
  },
  {
   "cell_type": "code",
   "execution_count": 22,
   "id": "a03563d3",
   "metadata": {},
   "outputs": [
    {
     "name": "stdout",
     "output_type": "stream",
     "text": [
      "Multiplication result: 24\n"
     ]
    }
   ],
   "source": [
    "result_mul = 3 * 8\n",
    "print(\"Multiplication result:\", result_mul)"
   ]
  },
  {
   "cell_type": "code",
   "execution_count": 23,
   "id": "ea99ee45",
   "metadata": {},
   "outputs": [
    {
     "name": "stdout",
     "output_type": "stream",
     "text": [
      "Division result: 2.0\n"
     ]
    }
   ],
   "source": [
    "result_div = 10 / 5\n",
    "print(\"Division result:\", result_div)"
   ]
  },
  {
   "cell_type": "code",
   "execution_count": 24,
   "id": "bc554ca0",
   "metadata": {},
   "outputs": [
    {
     "name": "stdout",
     "output_type": "stream",
     "text": [
      "Exponentiation result: 243\n"
     ]
    }
   ],
   "source": [
    "result_exp = 3 ** 5\n",
    "print(\"Exponentiation result:\", result_exp)"
   ]
  },
  {
   "cell_type": "code",
   "execution_count": 25,
   "id": "4cabfcd3",
   "metadata": {},
   "outputs": [
    {
     "name": "stdout",
     "output_type": "stream",
     "text": [
      "Modulus result: 0\n"
     ]
    }
   ],
   "source": [
    "result_mod = 24 % 2\n",
    "print(\"Modulus result:\", result_mod)"
   ]
  },
  {
   "cell_type": "code",
   "execution_count": 26,
   "id": "d570b09a",
   "metadata": {},
   "outputs": [
    {
     "name": "stdout",
     "output_type": "stream",
     "text": [
      "After subtraction assignment: 7\n"
     ]
    }
   ],
   "source": [
    "x = 10\n",
    "x -= 3\n",
    "print(\"After subtraction assignment:\", x)"
   ]
  },
  {
   "cell_type": "code",
   "execution_count": 27,
   "id": "3ca8ca82",
   "metadata": {},
   "outputs": [
    {
     "name": "stdout",
     "output_type": "stream",
     "text": [
      "After multiplication assignment: 10\n"
     ]
    }
   ],
   "source": [
    "y = 5\n",
    "y *= 2\n",
    "print(\"After multiplication assignment:\", y)"
   ]
  },
  {
   "cell_type": "code",
   "execution_count": 28,
   "id": "d376779c",
   "metadata": {},
   "outputs": [
    {
     "name": "stdout",
     "output_type": "stream",
     "text": [
      "After division assignment: 5.0\n"
     ]
    }
   ],
   "source": [
    "z = 20\n",
    "z /= 4\n",
    "print(\"After division assignment:\", z)"
   ]
  },
  {
   "cell_type": "code",
   "execution_count": null,
   "id": "1a0ca06e",
   "metadata": {},
   "outputs": [],
   "source": []
  }
 ],
 "metadata": {
  "kernelspec": {
   "display_name": "Python 3 (ipykernel)",
   "language": "python",
   "name": "python3"
  },
  "language_info": {
   "codemirror_mode": {
    "name": "ipython",
    "version": 3
   },
   "file_extension": ".py",
   "mimetype": "text/x-python",
   "name": "python",
   "nbconvert_exporter": "python",
   "pygments_lexer": "ipython3",
   "version": "3.9.13"
  }
 },
 "nbformat": 4,
 "nbformat_minor": 5
}
